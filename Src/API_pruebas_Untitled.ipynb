{
 "cells": [
  {
   "cell_type": "code",
   "execution_count": 1,
   "metadata": {},
   "outputs": [],
   "source": [
    "import APIs\n",
    "import pymongo as pym\n",
    "import pandas as pd"
   ]
  },
  {
   "cell_type": "code",
   "execution_count": 9,
   "metadata": {},
   "outputs": [
    {
     "data": {
      "text/plain": [
       "{'USD': 1,\n",
       " 'AED': 3.672055,\n",
       " 'ARS': 59.704393,\n",
       " 'AUD': 1.470981,\n",
       " 'BGN': 1.773337,\n",
       " 'BRL': 4.195172,\n",
       " 'BSD': 1,\n",
       " 'CAD': 1.323993,\n",
       " 'CHF': 0.989663,\n",
       " 'CLP': 802.843374,\n",
       " 'CNY': 7.012939,\n",
       " 'COP': 3486.217391,\n",
       " 'CZK': 23.216244,\n",
       " 'DKK': 6.779921,\n",
       " 'DOP': 52.891161,\n",
       " 'EGP': 16.081629,\n",
       " 'EUR': 0.906638,\n",
       " 'FJD': 2.188221,\n",
       " 'GBP': 0.776193,\n",
       " 'GTQ': 7.712128,\n",
       " 'HKD': 7.826933,\n",
       " 'HRK': 6.744887,\n",
       " 'HUF': 303.552342,\n",
       " 'IDR': 13977.590145,\n",
       " 'ILS': 3.478292,\n",
       " 'INR': 71.790673,\n",
       " 'ISK': 123.211465,\n",
       " 'JPY': 108.679651,\n",
       " 'KRW': 1165.737862,\n",
       " 'KZT': 389.237864,\n",
       " 'MXN': 19.247256,\n",
       " 'MYR': 4.153904,\n",
       " 'NOK': 9.121172,\n",
       " 'NZD': 1.565151,\n",
       " 'PAB': 1,\n",
       " 'PEN': 3.376791,\n",
       " 'PHP': 50.647743,\n",
       " 'PKR': 154.495183,\n",
       " 'PLN': 3.884897,\n",
       " 'PYG': 6681.916667,\n",
       " 'RON': 4.323921,\n",
       " 'RUB': 63.897473,\n",
       " 'SAR': 3.75018,\n",
       " 'SEK': 9.667363,\n",
       " 'SGD': 1.361753,\n",
       " 'THB': 30.226937,\n",
       " 'TRY': 5.751297,\n",
       " 'TWD': 30.542512,\n",
       " 'UAH': 24.161789,\n",
       " 'UYU': 37.644601,\n",
       " 'VND': 23212.280702,\n",
       " 'ZAR': 14.753904}"
      ]
     },
     "execution_count": 9,
     "metadata": {},
     "output_type": "execute_result"
    }
   ],
   "source": [
    "# exchange = APIs.currency_api('USD')\n",
    "# exchange['rates']\n",
    "\n",
    "exchange = {'rates':{\n",
    "                    'USD': 1,\n",
    "                    'EUR': 0.906638,\n",
    "                    'JPY': 108.679651,\n",
    "                    'GBP': 0.776193,\n",
    "                    'CAD': 1.323993,\n",
    "                    'SEK': 9.667363\n",
    "                    }\n",
    "           }\n",
    "exchange['rates']['EUR']"
   ]
  },
  {
   "cell_type": "code",
   "execution_count": 3,
   "metadata": {},
   "outputs": [],
   "source": [
    "db, coll = pym.connect_collection('companies', 'companies')"
   ]
  },
  {
   "cell_type": "code",
   "execution_count": 4,
   "metadata": {},
   "outputs": [],
   "source": [
    "comps = list(coll.find({'deadpooled_year': None},\n",
    "                          {'deadpooled_year':0, 'deadpooled_day':0, 'deadpooled_month':0}))\n"
   ]
  },
  {
   "cell_type": "code",
   "execution_count": 5,
   "metadata": {},
   "outputs": [
    {
     "data": {
      "text/plain": [
       "{'USD': 9746,\n",
       " None: 697,\n",
       " 'GBP': 144,\n",
       " 'EUR': 307,\n",
       " 'CAD': 42,\n",
       " 'JPY': 12,\n",
       " 'SEK': 1}"
      ]
     },
     "execution_count": 5,
     "metadata": {},
     "output_type": "execute_result"
    }
   ],
   "source": [
    "values_currency = pym.count_values_subgroup(comps, 'funding_rounds', 'raised_currency_code')\n",
    "values_currency"
   ]
  },
  {
   "cell_type": "code",
   "execution_count": 6,
   "metadata": {},
   "outputs": [],
   "source": [
    "for comp in comps:\n",
    "    value_dollar = {\"$set\": {'raised_dollar':pym.get_raised_dollar(comp, exchange)}}\n",
    "    coll.update_one(comp, value_dollar)\n"
   ]
  },
  {
   "cell_type": "code",
   "execution_count": 7,
   "metadata": {},
   "outputs": [],
   "source": [
    "def get_set_location(company, collection):\n",
    "    indx = 0\n",
    "    try:\n",
    "        for gr in company['offices']:\n",
    "            if (gr['longitude']!= None) and (gr['latitude']!= None):\n",
    "                long = gr['longitude']\n",
    "                lat = gr['latitude']\n",
    "                loc = {\n",
    "                    'type':'Point',\n",
    "                    'coordinates':[float(long), float(lat)]\n",
    "                }\n",
    "                value = {\"$set\": {f\"location {indx}\": loc}}\n",
    "                collection.update_one(company, value)\n",
    "                indx +=1\n",
    "    except:\n",
    "        company['offices'] = None\n",
    "        \n"
   ]
  },
  {
   "cell_type": "code",
   "execution_count": 8,
   "metadata": {},
   "outputs": [],
   "source": [
    "comps_dollar = list(coll.find({'raised_dollar':{'$gte':1000000}}))\n",
    "for comp_d in comps_dollar:\n",
    "    pym.get_set_location(comp_d, coll)"
   ]
  },
  {
   "cell_type": "code",
   "execution_count": null,
   "metadata": {},
   "outputs": [],
   "source": []
  },
  {
   "cell_type": "code",
   "execution_count": null,
   "metadata": {},
   "outputs": [],
   "source": []
  },
  {
   "cell_type": "code",
   "execution_count": null,
   "metadata": {},
   "outputs": [],
   "source": []
  },
  {
   "cell_type": "code",
   "execution_count": null,
   "metadata": {},
   "outputs": [],
   "source": [
    "comps_dollar = list(coll.find( {'$and': [{'raised_dollar':{'$gte':1000000}}, {'offices':{'$size':2}}]} ))\n",
    "\n",
    "for comp_d in comps_dollar:\n",
    "    indx = 0\n",
    "    for office in comp_d['offices']:\n",
    "        value_loc = {\"$set\": {f\"location{indx}\": get_location(office)}}\n"
   ]
  },
  {
   "cell_type": "code",
   "execution_count": null,
   "metadata": {},
   "outputs": [],
   "source": [
    "def get_location(office):\n",
    "\n",
    "    if (office['longitude']!= None) and (office['latitude']!= None):\n",
    "        long = gr['longitude']\n",
    "        lat = gr['latitude']\n",
    "        loc = {\n",
    "            'type':'Point',\n",
    "            'coordinates':[float(long), float(lat)]\n",
    "        }\n",
    "        return loc"
   ]
  },
  {
   "cell_type": "code",
   "execution_count": null,
   "metadata": {},
   "outputs": [],
   "source": []
  },
  {
   "cell_type": "code",
   "execution_count": null,
   "metadata": {},
   "outputs": [],
   "source": []
  },
  {
   "cell_type": "code",
   "execution_count": null,
   "metadata": {},
   "outputs": [],
   "source": []
  },
  {
   "cell_type": "code",
   "execution_count": null,
   "metadata": {},
   "outputs": [],
   "source": []
  }
 ],
 "metadata": {
  "kernelspec": {
   "display_name": "Python 3",
   "language": "python",
   "name": "python3"
  },
  "language_info": {
   "codemirror_mode": {
    "name": "ipython",
    "version": 3
   },
   "file_extension": ".py",
   "mimetype": "text/x-python",
   "name": "python",
   "nbconvert_exporter": "python",
   "pygments_lexer": "ipython3",
   "version": "3.6.8"
  }
 },
 "nbformat": 4,
 "nbformat_minor": 2
}
