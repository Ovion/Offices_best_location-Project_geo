{
 "cells": [
  {
   "cell_type": "code",
   "execution_count": 1,
   "metadata": {},
   "outputs": [],
   "source": [
    "import APIs\n",
    "import pandas as pd"
   ]
  },
  {
   "cell_type": "code",
   "execution_count": 2,
   "metadata": {},
   "outputs": [
    {
     "data": {
      "text/plain": [
       "0.9"
      ]
     },
     "execution_count": 2,
     "metadata": {},
     "output_type": "execute_result"
    }
   ],
   "source": [
    "# exchange = APIs.currency_api('USD')\n",
    "# exchange['rates']['EUR']\n",
    "\n",
    "exchange = {'rates':{\n",
    "                    'USD': 1,\n",
    "                    'EUR': 0.90,\n",
    "                    'JPY': 109.77,\n",
    "                    'GBP': 0.77,\n",
    "                    'CAD': 1.32,\n",
    "                    'SEK': 9.65\n",
    "                    }\n",
    "           }\n",
    "exchange['rates']['EUR']"
   ]
  },
  {
   "cell_type": "code",
   "execution_count": 10,
   "metadata": {},
   "outputs": [],
   "source": [
    "\n",
    "def count_values_subgroup (collection, group, subgroup):\n",
    "    dicti = {}\n",
    "    for coll in collection:\n",
    "        for gr in coll[group]:\n",
    "            dicti[gr[subgroup]]= dicti.get(gr[subgroup],0)+1\n",
    "    sort_dicti = sorted(dicti.items(), key=lambda kv: kv[1], reverse=True)        \n",
    "    return dicti\n",
    "\n",
    "def get_raised_dollar (coll):\n",
    "    dollars = 0\n",
    "    try:\n",
    "        for gr in coll['funding_rounds']:\n",
    "            if gr['raised_currency_code'] in exchange['rates']:\n",
    "                dollars += gr['raised_amount']*exchange['rates'][gr['raised_currency_code']]\n",
    "    except:\n",
    "        coll['funding_rounds'] = None\n",
    "    return dollars\n",
    "\n"
   ]
  },
  {
   "cell_type": "code",
   "execution_count": 4,
   "metadata": {},
   "outputs": [],
   "source": [
    "db, coll = APIs.connect_collection('companies', 'companies')"
   ]
  },
  {
   "cell_type": "code",
   "execution_count": 5,
   "metadata": {},
   "outputs": [],
   "source": [
    "comps = list(coll.find({'deadpooled_year': None},\n",
    "                          {'deadpooled_year':0, 'deadpooled_day':0, 'deadpooled_month':0}))\n"
   ]
  },
  {
   "cell_type": "code",
   "execution_count": 6,
   "metadata": {},
   "outputs": [
    {
     "data": {
      "text/plain": [
       "{'USD': 9746,\n",
       " None: 697,\n",
       " 'GBP': 144,\n",
       " 'EUR': 307,\n",
       " 'CAD': 42,\n",
       " 'JPY': 12,\n",
       " 'SEK': 1}"
      ]
     },
     "execution_count": 6,
     "metadata": {},
     "output_type": "execute_result"
    }
   ],
   "source": [
    "values_currency=count_values_subgroup(comps, 'funding_rounds', 'raised_currency_code')\n",
    "values_currency"
   ]
  },
  {
   "cell_type": "code",
   "execution_count": 11,
   "metadata": {},
   "outputs": [],
   "source": [
    "for comp in comps:\n",
    "    value_dollar = {\"$set\": {'raised_dollar':get_raised_dollar(comp)}}\n",
    "    coll.update_one(comp, value_dollar)\n"
   ]
  },
  {
   "cell_type": "code",
   "execution_count": 13,
   "metadata": {},
   "outputs": [
    {
     "ename": "KeyError",
     "evalue": "'raised_dollar'",
     "output_type": "error",
     "traceback": [
      "\u001b[0;31m---------------------------------------------------------------------------\u001b[0m",
      "\u001b[0;31mKeyError\u001b[0m                                  Traceback (most recent call last)",
      "\u001b[0;32m<ipython-input-13-ae4bfd3c4a94>\u001b[0m in \u001b[0;36m<module>\u001b[0;34m\u001b[0m\n\u001b[0;32m----> 1\u001b[0;31m \u001b[0mcomps\u001b[0m\u001b[0;34m[\u001b[0m\u001b[0;36m1\u001b[0m\u001b[0;34m]\u001b[0m\u001b[0;34m[\u001b[0m\u001b[0;34m'raised_dollar'\u001b[0m\u001b[0;34m]\u001b[0m\u001b[0;34m\u001b[0m\u001b[0;34m\u001b[0m\u001b[0m\n\u001b[0m",
      "\u001b[0;31mKeyError\u001b[0m: 'raised_dollar'"
     ]
    }
   ],
   "source": [
    "comps[1]['raised_dollar']"
   ]
  },
  {
   "cell_type": "code",
   "execution_count": null,
   "metadata": {},
   "outputs": [],
   "source": []
  },
  {
   "cell_type": "code",
   "execution_count": null,
   "metadata": {},
   "outputs": [],
   "source": []
  },
  {
   "cell_type": "code",
   "execution_count": null,
   "metadata": {},
   "outputs": [],
   "source": []
  }
 ],
 "metadata": {
  "kernelspec": {
   "display_name": "Python 3",
   "language": "python",
   "name": "python3"
  },
  "language_info": {
   "codemirror_mode": {
    "name": "ipython",
    "version": 3
   },
   "file_extension": ".py",
   "mimetype": "text/x-python",
   "name": "python",
   "nbconvert_exporter": "python",
   "pygments_lexer": "ipython3",
   "version": "3.6.8"
  }
 },
 "nbformat": 4,
 "nbformat_minor": 2
}
