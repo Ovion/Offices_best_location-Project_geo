{
 "cells": [
  {
   "cell_type": "code",
   "execution_count": 1,
   "metadata": {},
   "outputs": [],
   "source": [
    "import APIs\n",
    "import data_mongo as dm \n"
   ]
  },
  {
   "cell_type": "code",
   "execution_count": 2,
   "metadata": {},
   "outputs": [
    {
     "data": {
      "text/plain": [
       "0.906638"
      ]
     },
     "execution_count": 2,
     "metadata": {},
     "output_type": "execute_result"
    }
   ],
   "source": [
    "# exchange = APIs.currency_api('USD')\n",
    "# exchange['rates']\n",
    "\n",
    "exchange = {'rates':{\n",
    "                    'USD': 1,\n",
    "                    'EUR': 0.906638,\n",
    "                    'JPY': 108.679651,\n",
    "                    'GBP': 0.776193,\n",
    "                    'CAD': 1.323993,\n",
    "                    'SEK': 9.667363\n",
    "                    }\n",
    "           }\n",
    "exchange['rates']['EUR']"
   ]
  },
  {
   "cell_type": "code",
   "execution_count": 3,
   "metadata": {},
   "outputs": [],
   "source": [
    "# Conexion\n",
    "\n",
    "comps_db, comps_coll = dm.connect_collection('companies', 'companies')"
   ]
  },
  {
   "cell_type": "code",
   "execution_count": 4,
   "metadata": {},
   "outputs": [
    {
     "data": {
      "text/plain": [
       "<pymongo.results.DeleteResult at 0x7fcd46167ec8>"
      ]
     },
     "execution_count": 4,
     "metadata": {},
     "output_type": "execute_result"
    }
   ],
   "source": [
    "# Borrar las que hayan quebrado\n",
    "\n",
    "comps_coll.delete_many({'deadpooled_year':{'$gte':0}})"
   ]
  },
  {
   "cell_type": "code",
   "execution_count": 5,
   "metadata": {},
   "outputs": [
    {
     "data": {
      "text/plain": [
       "<pymongo.results.DeleteResult at 0x7fcd46154588>"
      ]
     },
     "execution_count": 5,
     "metadata": {},
     "output_type": "execute_result"
    }
   ],
   "source": [
    "# Borrar las que no tengan oficina\n",
    "\n",
    "comps_coll.delete_many({'offices':{'$eq':[]}})"
   ]
  },
  {
   "cell_type": "code",
   "execution_count": 6,
   "metadata": {},
   "outputs": [],
   "source": [
    "#Hacer lista para actualizar \n",
    "\n",
    "comps_dollar = list(comps_coll.find({'deadpooled_year': None}))"
   ]
  },
  {
   "cell_type": "code",
   "execution_count": 7,
   "metadata": {},
   "outputs": [],
   "source": [
    "#Actualización de los datos para ver la cantidad en dolares\n",
    "\n",
    "for comp in comps_dollar:\n",
    "    value_dollar = {\"$set\": {'raised_dollar':dm.get_raised_dollar(comp, exchange)}}\n",
    "    comps_coll.update_one(comp, value_dollar)"
   ]
  },
  {
   "cell_type": "code",
   "execution_count": 8,
   "metadata": {},
   "outputs": [
    {
     "data": {
      "text/plain": [
       "<pymongo.command_cursor.CommandCursor at 0x7fcd2cafff60>"
      ]
     },
     "execution_count": 8,
     "metadata": {},
     "output_type": "execute_result"
    }
   ],
   "source": [
    "# Por cada oficina, crear un nuevo campo\n",
    "\n",
    "unpack = [{'$unwind':'$offices'},{'$project': {'_id':0}}, {'$out':'companies'}]\n",
    "comps_coll.aggregate(unpack)"
   ]
  },
  {
   "cell_type": "code",
   "execution_count": 9,
   "metadata": {},
   "outputs": [
    {
     "data": {
      "text/plain": [
       "<pymongo.results.DeleteResult at 0x7fcd460f0088>"
      ]
     },
     "execution_count": 9,
     "metadata": {},
     "output_type": "execute_result"
    }
   ],
   "source": [
    "# Borrar aquellas sin coordenadas\n",
    "\n",
    "comps_coll.delete_many({'$or':[{\"offices.latitude\":{'$eq':None}},{\"offices.longitude\":{'$eq':None}}]})"
   ]
  },
  {
   "cell_type": "code",
   "execution_count": 10,
   "metadata": {},
   "outputs": [
    {
     "data": {
      "text/plain": [
       "<pymongo.results.UpdateResult at 0x7fcd2ca98708>"
      ]
     },
     "execution_count": 10,
     "metadata": {},
     "output_type": "execute_result"
    }
   ],
   "source": [
    "# Borrar gilipolleces\n",
    "\n",
    "comps_coll.update_many({}, {'$unset': {'permalink':1, 'crunchbase_url':1, 'homepage_url':1, 'blog_url':1,\n",
    "                                   'blog_feed_url':1, 'twitter_username':1,'founded_month':1, 'founded_day':1,\n",
    "                                   'deadpooled_year':1,'deadpooled_month':1, 'deadpooled_day':1, 'deadpooled_url':1,\n",
    "                                   'tag_list':1, 'alias_list':1, 'email_address':1, 'phone_number':1, 'created_at':1,\n",
    "                                   'updated_at':1, 'overview':1, 'image':1, 'products':1, 'relationships':1, 'competitions':1,\n",
    "                                   'providerships':1, 'milestones':1, 'ipo':1, 'video_embeds':1,'screenshots':1,'external_links':1,\n",
    "                                   'partners':1, 'acquisition':1, 'acquisitions':1, 'investments': 1 }})"
   ]
  },
  {
   "cell_type": "code",
   "execution_count": 11,
   "metadata": {},
   "outputs": [],
   "source": [
    "#lista para las localizaciones\n",
    "\n",
    "comps_loc = list(comps_coll.find())"
   ]
  },
  {
   "cell_type": "code",
   "execution_count": 12,
   "metadata": {},
   "outputs": [],
   "source": [
    "#poner las localizaciones en el formato requerido\n",
    "\n",
    "for comp in comps_loc:\n",
    "    value_loc = {'$set': {'location': dm.get_location(comp)}}\n",
    "    comps_coll.update_one(comp, value_loc)"
   ]
  },
  {
   "cell_type": "code",
   "execution_count": null,
   "metadata": {},
   "outputs": [],
   "source": []
  },
  {
   "cell_type": "code",
   "execution_count": null,
   "metadata": {},
   "outputs": [],
   "source": []
  }
 ],
 "metadata": {
  "kernelspec": {
   "display_name": "Python 3",
   "language": "python",
   "name": "python3"
  },
  "language_info": {
   "codemirror_mode": {
    "name": "ipython",
    "version": 3
   },
   "file_extension": ".py",
   "mimetype": "text/x-python",
   "name": "python",
   "nbconvert_exporter": "python",
   "pygments_lexer": "ipython3",
   "version": "3.6.8"
  }
 },
 "nbformat": 4,
 "nbformat_minor": 2
}
